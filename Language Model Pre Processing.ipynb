{
 "cells": [
  {
   "cell_type": "code",
   "execution_count": 500,
   "metadata": {},
   "outputs": [],
   "source": [
    "import pandas as pd\n",
    "import langdetect"
   ]
  },
  {
   "cell_type": "code",
   "execution_count": 501,
   "metadata": {},
   "outputs": [],
   "source": [
    "#Load CSVs in dataframes\n",
    "csv1 = pd.read_csv('1.csv', delimiter = ',',encoding = \"ISO-8859-1\")\n",
    "csv2 = pd.read_csv('2.csv', delimiter = ',',encoding = \"ISO-8859-1\")\n",
    "\n"
   ]
  },
  {
   "cell_type": "code",
   "execution_count": 502,
   "metadata": {},
   "outputs": [],
   "source": [
    "#Merge Dataframes\n",
    "df = pd.concat([csv1,csv2])\n",
    "df.reset_index(inplace=True, drop=True) \n"
   ]
  },
  {
   "cell_type": "code",
   "execution_count": 503,
   "metadata": {},
   "outputs": [],
   "source": [
    "#Filter by 'From: (Address)'\n",
    "df_filtered_from = df[df['From: (Name)'].str.contains('***NAME OF THE PERSON TO FILTER***')]\n",
    "#Filter NaN\n",
    "df_filtered_nan = df_filtered_from[df_filtered_from['Body'].str.contains('NaN')==False]\n",
    "df_filtered_nan = df_filtered_nan[df_filtered_nan['Body'].str.match('\\r\\n')==False]\n",
    "df_filtered_nan = df_filtered_nan[df_filtered_nan['Body'].str.match(' \\r\\n\\r\\n')==False]\n",
    "df_filtered_nan.reset_index(inplace=True, drop=True) "
   ]
  },
  {
   "cell_type": "code",
   "execution_count": 504,
   "metadata": {},
   "outputs": [],
   "source": [
    "#Create a list with languages for emails\n",
    "language_list = []\n",
    "for index, row in df_filtered_nan.iterrows():\n",
    "    language_list.append(langdetect.detect(row['Body']))\n"
   ]
  },
  {
   "cell_type": "code",
   "execution_count": 505,
   "metadata": {},
   "outputs": [
    {
     "name": "stdout",
     "output_type": "stream",
     "text": [
      "(67, 20)\n"
     ]
    }
   ],
   "source": [
    "#Add column to dataframe with languages\n",
    "df_filtered_nan[\"Language\"] = language_list\n",
    "print(df_filtered_nan.shape)"
   ]
  },
  {
   "cell_type": "code",
   "execution_count": 506,
   "metadata": {},
   "outputs": [],
   "source": [
    "#Filter emails based on language\n",
    "df_filtered_language = df_filtered_nan[df_filtered_nan['Language'].str.match('en')]"
   ]
  },
  {
   "cell_type": "code",
   "execution_count": 507,
   "metadata": {},
   "outputs": [],
   "source": [
    "for index, row in df_filtered_language.iterrows():\n",
    "    df_filtered_language.at[index, 'Body'] = row['Body'].split(\"****URL THAT USUALLY MEANS AN EMAIL END****\")[0]\n",
    "for index, row in df_filtered_language.iterrows():\n",
    "    df_filtered_language.at[index, 'Body'] = row['Body'].split(\"_\")[0]\n",
    "for index, row in df_filtered_language.iterrows():\n",
    "    df_filtered_language.at[index, 'Body'] = row['Body'].split(\"**** NAME OF THE PERSONA THAT MEANS EMAIL SIGNATURE *****\")[0]"
   ]
  },
  {
   "cell_type": "code",
   "execution_count": 508,
   "metadata": {},
   "outputs": [],
   "source": [
    "#Concatenate Body values in list\n",
    "result = df_filtered_language['Body'].str.cat(sep=' ')\n",
    "result = result.replace(\"\\r\",\"\")\n",
    "result = result.replace(\"\\n\",\"\")\n",
    "result = result.replace(\"_\",\"\")\n",
    "result = result.replace(\".\",\"\")\n",
    "result = result.replace('****URL THAT USUALLY MEANS AN EMAIL END****',\"\")\n",
    "\n",
    "\n",
    "                        "
   ]
  },
  {
   "cell_type": "code",
   "execution_count": 509,
   "metadata": {},
   "outputs": [],
   "source": [
    "#Save string to txt\n",
    "with open(\"Output.txt\", \"w\", encoding=\"utf-8\") as text_file:\n",
    "    text_file.write(result)"
   ]
  },
  {
   "cell_type": "code",
   "execution_count": 510,
   "metadata": {},
   "outputs": [],
   "source": [
    "#Write dataframe to csv for debugging purposes\n",
    "df_filtered_language.to_csv(\"result.csv\", sep=',')"
   ]
  },
  {
   "cell_type": "code",
   "execution_count": null,
   "metadata": {},
   "outputs": [],
   "source": []
  },
  {
   "cell_type": "code",
   "execution_count": null,
   "metadata": {},
   "outputs": [],
   "source": []
  }
 ],
 "metadata": {
  "kernelspec": {
   "display_name": "Python 3",
   "language": "python",
   "name": "python3"
  },
  "language_info": {
   "codemirror_mode": {
    "name": "ipython",
    "version": 3
   },
   "file_extension": ".py",
   "mimetype": "text/x-python",
   "name": "python",
   "nbconvert_exporter": "python",
   "pygments_lexer": "ipython3",
   "version": "3.6.5"
  }
 },
 "nbformat": 4,
 "nbformat_minor": 2
}
